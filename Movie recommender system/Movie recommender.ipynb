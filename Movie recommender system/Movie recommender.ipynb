{
 "cells": [
  {
   "cell_type": "code",
   "execution_count": 1,
   "id": "c2319281",
   "metadata": {},
   "outputs": [],
   "source": [
    "import numpy as np\n",
    "import pandas as pd\n",
    "from sklearn.feature_extraction.text import TfidfVectorizer\n",
    "from sklearn.metrics.pairwise import cosine_similarity\n",
    "import ast\n",
    "import pickle"
   ]
  },
  {
   "cell_type": "code",
   "execution_count": 2,
   "id": "5973d77b",
   "metadata": {},
   "outputs": [],
   "source": [
    "# Load data\n",
    "movies = pd.read_csv(r\"C:\\Users\\parth\\Downloads\\tmdb_5000_movies.csv\")\n",
    "credits = pd.read_csv(r\"C:\\Users\\parth\\Downloads\\tmdb_5000_credits.csv\") \n",
    "\n",
    "# Merge dataframes\n",
    "movies = movies.merge(credits, on='title')\n",
    "movies = movies[['movie_id', 'title', 'overview', 'genres', 'keywords', 'cast', 'crew']]\n"
   ]
  },
  {
   "cell_type": "code",
   "execution_count": 3,
   "id": "9c8e01b3",
   "metadata": {},
   "outputs": [],
   "source": [
    "def convert(text):\n",
    "    return [i['name'] for i in ast.literal_eval(text)]\n",
    "\n",
    "movies.dropna(inplace=True)\n",
    "movies['genres'] = movies['genres'].apply(convert)\n",
    "movies['keywords'] = movies['keywords'].apply(convert)\n",
    "movies['cast'] = movies['cast'].apply(convert)\n",
    "movies['cast'] = movies['cast'].apply(lambda x: x[:3])\n",
    "movies['crew'] = movies['crew'].apply(lambda x: [i['name'] for i in ast.literal_eval(x) if i['job'] == 'Director'])"
   ]
  },
  {
   "cell_type": "code",
   "execution_count": 4,
   "id": "1da9f516",
   "metadata": {},
   "outputs": [],
   "source": [
    "# Tokenize and preprocess text data\n",
    "movies['overview'] = movies['overview'].apply(lambda x: x.split())\n",
    "movies['tags'] = movies['overview'] + movies['genres'] + movies['keywords'] + movies['cast'] + movies['crew']\n",
    "\n",
    "# Combine different types of features intelligently\n",
    "movies['tags'] = movies['tags'].apply(lambda x: \" \".join(x))\n"
   ]
  },
  {
   "cell_type": "code",
   "execution_count": 5,
   "id": "6c076c41",
   "metadata": {},
   "outputs": [],
   "source": [
    "# TF-IDF Vectorization\n",
    "tfidf_vectorizer = TfidfVectorizer(max_features=5000, stop_words='english')\n",
    "tfidf_matrix = tfidf_vectorizer.fit_transform(movies['tags'])\n"
   ]
  },
  {
   "cell_type": "code",
   "execution_count": 6,
   "id": "a6b6cfbe",
   "metadata": {},
   "outputs": [],
   "source": [
    "# Cosine Similarity\n",
    "cosine_sim = cosine_similarity(tfidf_matrix)"
   ]
  },
  {
   "cell_type": "code",
   "execution_count": 7,
   "id": "c02a76dc",
   "metadata": {},
   "outputs": [],
   "source": [
    "def recommend(movie, n=5):\n",
    "    index = movies[movies['title'] == movie].index[0]\n",
    "    distances = sorted(list(enumerate(cosine_sim[index])), reverse=True, key=lambda x: x[1])\n",
    "    recommended_movies = [movies.iloc[i[0]].title for i in distances[1:n+1]]\n",
    "    return recommended_movies\n"
   ]
  },
  {
   "cell_type": "code",
   "execution_count": 8,
   "id": "e9b03048",
   "metadata": {},
   "outputs": [
    {
     "name": "stdout",
     "output_type": "stream",
     "text": [
      "['Gandhi, My Father', 'A Passage to India', 'The Wind That Shakes the Barley', 'Water', 'Lawrence of Arabia']\n"
     ]
    }
   ],
   "source": [
    "# Example usage:\n",
    "recommended_movies = recommend('Gandhi', n=5)\n",
    "print(recommended_movies)"
   ]
  },
  {
   "cell_type": "code",
   "execution_count": 9,
   "id": "0a031d17",
   "metadata": {},
   "outputs": [],
   "source": [
    "# Save processed data and model\n",
    "pickle.dump(movies, open('movie_list.pkl', 'wb'))\n",
    "pickle.dump(cosine_sim, open('cosine_similarity.pkl', 'wb'))\n"
   ]
  },
  {
   "cell_type": "code",
   "execution_count": null,
   "id": "5c7ecfaa",
   "metadata": {},
   "outputs": [],
   "source": []
  }
 ],
 "metadata": {
  "kernelspec": {
   "display_name": "Python 3 (ipykernel)",
   "language": "python",
   "name": "python3"
  },
  "language_info": {
   "codemirror_mode": {
    "name": "ipython",
    "version": 3
   },
   "file_extension": ".py",
   "mimetype": "text/x-python",
   "name": "python",
   "nbconvert_exporter": "python",
   "pygments_lexer": "ipython3",
   "version": "3.10.9"
  }
 },
 "nbformat": 4,
 "nbformat_minor": 5
}
